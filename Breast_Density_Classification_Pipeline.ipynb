{
 "cells": [
  {
   "cell_type": "markdown",
   "id": "503bd52a",
   "metadata": {},
   "source": [
    "# Breast Density Classification in MRI: comparing Deep learning with Radiolomics\n",
    "\n",
    "Acknowledgements:\n",
    "\n",
    "- https://jacobgil.github.io/pytorch-gradcam-book\n",
    "- https://github.com/Astarakee/Radiomics_pipeline\n",
    "- https://github.com/shijianjian/EfficientNet-PyTorch-3D\n",
    "\n",
    "T1w sequences were used for density estimation in this project, gold standard was BIRADS density assessment from radiologists' visual inspection.\n"
   ]
  },
  {
   "cell_type": "markdown",
   "id": "1dd15636",
   "metadata": {},
   "source": [
    "## 1. Four-category  classification\n",
    "\n",
    "The breast density was difined as:\n",
    "- 1) almost entirely fatty\n",
    "- 2) scattered fibroglandular tissue\n",
    "- 3) heterogeneously dense\n",
    "- 4) etremely dense\n",
    "\n",
    "based on the volume of the fibroglandular tissue in the breast.\n",
    "\n",
    "The most intuitive way is to train a 4-class classifier based on categories."
   ]
  },
  {
   "cell_type": "markdown",
   "id": "34f0962f",
   "metadata": {},
   "source": [
    "### 1.1 Deep learning 4-class classification "
   ]
  },
  {
   "cell_type": "code",
   "execution_count": null,
   "id": "ba85a7bc",
   "metadata": {},
   "outputs": [],
   "source": [
    "import os\n",
    "import sys\n",
    "import glob\n",
    "import random\n",
    "import yaml\n",
    "import io\n",
    "import time\n",
    "import re\n",
    "import numpy as np\n",
    "import pandas as pd\n",
    "import matplotlib.pyplot as plt\n",
    "from collections import Counter, defaultdict\n",
    "import torch\n",
    "from torch import nn\n",
    "from torch.utils import data as torch_data\n",
    "from torchvision import transforms as T\n",
    "from sklearn import model_selection as sk_model_selection\n",
    "import torch.nn.functional as F\n",
    "import torchio as tio\n",
    "from sklearn.metrics import roc_auc_score, roc_curve, cohen_kappa_score, confusion_matrix, ConfusionMatrixDisplay,RocCurveDisplay\n",
    "import joblib\n",
    "import pickle\n",
    "import warnings\n",
    "import xlwt\n",
    "import scipy.stats"
   ]
  },
  {
   "cell_type": "code",
   "execution_count": null,
   "id": "0a94228a",
   "metadata": {},
   "outputs": [],
   "source": [
    "from data_load import load_croped_volumn, Dataset\n",
    "from utilities import bootstraps, make_confusion_matrix\n",
    "from radiomics_cls import test_clf\n",
    "from dl_cls import predict"
   ]
  },
  {
   "cell_type": "markdown",
   "id": "9b863d0c",
   "metadata": {},
   "source": [
    "#### Define dataset\n",
    "All information were keeped in a table with three colomuns: patient_id, density_label and Filepath"
   ]
  },
  {
   "cell_type": "code",
   "execution_count": null,
   "id": "dada9671",
   "metadata": {},
   "outputs": [],
   "source": [
    "############\n",
    "# path to the 3D volumes\n",
    "############\n",
    "data_root = 'xxxx'\n",
    "\n",
    "#########\n",
    "# Load the dataset table\n",
    "#########\n",
    "test_df = pd.read_excel(r\"../DATA_FOR_TEST_NO_PROTHESIS_WITHPATH.xlsx\")\n",
    "test_df.reset_index(drop = True, inplace = True)"
   ]
  },
  {
   "cell_type": "markdown",
   "id": "ad55e517",
   "metadata": {},
   "source": [
    "#### Load model\n",
    "\n",
    "Load efficientbet-3D model\n",
    "original implementation: https://github.com/shijianjian/EfficientNet-PyTorch-3D"
   ]
  },
  {
   "cell_type": "code",
   "execution_count": null,
   "id": "8a755b60",
   "metadata": {},
   "outputs": [],
   "source": [
    "pytorch3dpath = \"EfficientNet-PyTorch-3D\"\n",
    "sys.path.append(pytorch3dpath)\n",
    "from efficientnet_pytorch_3d import EfficientNet3D\n",
    "torch.cuda.empty_cache()\n",
    "device = torch.device(\"cuda\" if torch.cuda.is_available() else \"cpu\")"
   ]
  },
  {
   "cell_type": "code",
   "execution_count": null,
   "id": "eec9c08c",
   "metadata": {},
   "outputs": [],
   "source": [
    "class Model(nn.Module):\n",
    "    def __init__(self, net = 'b3', classes = 4 ):\n",
    "        super().__init__()\n",
    "        self.net = EfficientNet3D.from_name(\"efficientnet-{}\".format(net), override_params={'num_classes': classes},\n",
    "                                            in_channels=1)\n",
    "    \n",
    "    def forward(self, x):\n",
    "        out = self.net(x)\n",
    "        return out"
   ]
  },
  {
   "cell_type": "markdown",
   "id": "328defb5",
   "metadata": {},
   "source": [
    "#### Predcit function"
   ]
  },
  {
   "cell_type": "code",
   "execution_count": null,
   "id": "14055b38",
   "metadata": {
    "scrolled": false
   },
   "outputs": [],
   "source": [
    "checkpoint = 'models/T1W_150420_sgd_four_class_no_prothesis_b3-e44-loss0.757-acc0.714.pth'\n",
    "\n",
    "## tranformer for test, no data augmentation\n",
    "valid_transformer = tio.Compose([\n",
    "        tio.Resize([150, 420, 144], image_interpolation = 'bspline'),\n",
    "        tio.RescaleIntensity(out_min_max=(0, 1)),\n",
    "    ])\n",
    "\n",
    "dl_pred_4 = predict(checkpoint, 'b3', test_df, data_root = data_root, transformer = valid_transformer,\n",
    "               binary = False, dense = False, targets = True, gradcam = False)"
   ]
  },
  {
   "cell_type": "code",
   "execution_count": null,
   "id": "112f6182",
   "metadata": {},
   "outputs": [],
   "source": [
    "dl_pred_4.tail()"
   ]
  },
  {
   "cell_type": "code",
   "execution_count": null,
   "id": "f209388e",
   "metadata": {},
   "outputs": [],
   "source": [
    "########\n",
    "# save the predicted probobilities\n",
    "#dl_pred_4.to_csv('dl_pred_val_4.csv', index=False)"
   ]
  },
  {
   "cell_type": "code",
   "execution_count": null,
   "id": "0bde2782",
   "metadata": {},
   "outputs": [],
   "source": [
    "y_pred = list(dl_pred_4.Prediction.values)\n",
    "y_ture = list(dl_pred_4.Label.values)\n",
    "\n",
    "cm = confusion_matrix(y_ture, y_pred)\n",
    "\n",
    "categories = ['Fatty', 'Scattered', 'Heterogeneous', 'Dense']\n",
    "\n",
    "make_confusion_matrix(cm,group_names=None,\n",
    "                          categories=categories,\n",
    "                          count=True,\n",
    "                          percent=True,\n",
    "                          cbar=False,\n",
    "                          xyticks=True,\n",
    "                          xyplotlabels=True,\n",
    "                          sum_stats=True,\n",
    "                          figsize=None,\n",
    "                          cmap='Blues',\n",
    "                          title=None)"
   ]
  },
  {
   "cell_type": "markdown",
   "id": "b444a610",
   "metadata": {},
   "source": [
    "### 1.2 Radiomics 4-class classification"
   ]
  },
  {
   "cell_type": "code",
   "execution_count": null,
   "id": "d45789e1",
   "metadata": {},
   "outputs": [],
   "source": [
    "with open(\"feature_names.yaml\", 'r') as stream:\n",
    "    feature_names = yaml.safe_load(stream)['feature list']"
   ]
  },
  {
   "cell_type": "code",
   "execution_count": null,
   "id": "a64293e9",
   "metadata": {},
   "outputs": [],
   "source": [
    "############\n",
    "# Load radiomics features extracted, for feature extraction, please refer to readme\n",
    "############\n",
    "path_to_test_radiomics = 'xxxx/radiomic_features_test.csv'"
   ]
  },
  {
   "cell_type": "code",
   "execution_count": null,
   "id": "ed917245",
   "metadata": {},
   "outputs": [],
   "source": [
    "test_df_radiomics = pd.read_csv(path_to_test_radiomics)\n",
    "test_feature_df = test_df_radiomics.drop(columns=feature_names)\n",
    "x_test, y_test = test_feature_df.values, test_label_set\n",
    "print('the size of the test subset is {}'.format(x_test.shape))"
   ]
  },
  {
   "cell_type": "code",
   "execution_count": null,
   "id": "b159e09f",
   "metadata": {},
   "outputs": [],
   "source": [
    "####\n",
    "# feature normalization\n",
    "####\n",
    "x_test = feature_normalization(x_test)"
   ]
  },
  {
   "cell_type": "code",
   "execution_count": null,
   "id": "8efaeccd",
   "metadata": {},
   "outputs": [],
   "source": [
    "############\n",
    "# Load trained logestic regression, random forest and SVM models\n",
    "############\n",
    "clf_lr_4 = joblib.load('models/lr_4.pkl')\n",
    "clf_rf_4 = joblib.load('models/rf_4.pkl')\n",
    "clf_svm_4 = joblib.load('models/svm_4.pkl')"
   ]
  },
  {
   "cell_type": "code",
   "execution_count": null,
   "id": "0867b772",
   "metadata": {},
   "outputs": [],
   "source": [
    "############\n",
    "# get prediction from trained models with test data\n",
    "############\n",
    "_, y_pred_rm_4, _,  _, _, _ = test_clf(clf_rm_4, test_set, test_label)\n",
    "_, y_pred_svm_4, _,  _, _, _ = test_clf(clf_svm_4, test_set, test_label)\n",
    "_, y_pred_lr_4, _,  _, _, _ = test_clf(clf_lr_4, test_set, test_label)"
   ]
  },
  {
   "cell_type": "markdown",
   "id": "3ca4faaa",
   "metadata": {},
   "source": [
    "## 2 Binary classification\n",
    "\n",
    "Instead of classifiy the density into 4 categroies, we classificy breast into dense/nondense, in which 1) almost entirely fatty and 2) scattered fibroglandular tissue were defined as nondense, and 3) heterogeneously dense and 4) etremely dense were defined as dense."
   ]
  },
  {
   "cell_type": "markdown",
   "id": "420cf6d6",
   "metadata": {},
   "source": [
    "### 2.1 Dense/Non dense classification (task (ii))"
   ]
  },
  {
   "cell_type": "markdown",
   "id": "4bdb3745",
   "metadata": {},
   "source": [
    "#### 2.1.1 Radiomics method"
   ]
  },
  {
   "cell_type": "code",
   "execution_count": null,
   "id": "7a53f41b",
   "metadata": {},
   "outputs": [],
   "source": [
    "#########\n",
    "# Transfer 4 category labels to binary label\n",
    "#########\n",
    "test_label_binary = [0 if x < 2 else 1 for x in test_label]"
   ]
  },
  {
   "cell_type": "code",
   "execution_count": null,
   "id": "5df0e9b9",
   "metadata": {},
   "outputs": [],
   "source": [
    "############\n",
    "# Load trained logestic regression, random forest and SVM models\n",
    "############\n",
    "clf_lr_2 = joblib.load('models/lr_2.pkl')\n",
    "clf_rf_2 = joblib.load('models/rf_2.pkl')\n",
    "clf_svm_2 = joblib.load('models/svm_2.pkl')"
   ]
  },
  {
   "cell_type": "code",
   "execution_count": null,
   "id": "e0fbfc01",
   "metadata": {},
   "outputs": [],
   "source": [
    "############\n",
    "# get prediction from trained models with test data\n",
    "############\n",
    "_, y_pred_rf_2,_, _,_,_ = test_clf(clf_rf_2, test_set, test_label_binary)\n",
    "_, y_pred_lr_2,_, _,_,_ = test_clf(clf_lr_2, test_set, test_label_binary)\n",
    "_, y_pred_svm_2,_, _,_,_ = test_clf(clf_svm_2, test_set, test_label_binary)"
   ]
  },
  {
   "cell_type": "markdown",
   "id": "b73612e1",
   "metadata": {},
   "source": [
    "### 2.1.2 Deep laerning method"
   ]
  },
  {
   "cell_type": "code",
   "execution_count": null,
   "id": "a403d0af",
   "metadata": {},
   "outputs": [],
   "source": [
    "#########\n",
    "# load trained model for binary classification\n",
    "#########\n",
    "checkpoint = 'models/T1W_150420_binary_adam_b5-e73-loss0.317-acc0.903.pth'\n",
    "\n",
    "## tranformer for test, no data augmentation\n",
    "valid_transformer = tio.Compose([\n",
    "        tio.Resize([150, 420, 144], image_interpolation = 'bspline'),\n",
    "        tio.RescaleIntensity(out_min_max=(0, 1)),\n",
    "    ])\n",
    "\n",
    "# pred = predict(checkpoint, 'b5', valid_df, data_root = data_root, transformer = valid_transformer,\n",
    "#                binary = True, dense = False, targets = True, gradcam = False)\n",
    "\n",
    "dl_pred_2 = predict(checkpoint, 'b5', test_df, data_root = data_root, transformer = valid_transformer,\n",
    "               binary = True, dense = False, targets = True, gradcam = False)"
   ]
  },
  {
   "cell_type": "code",
   "execution_count": null,
   "id": "6503b94c",
   "metadata": {},
   "outputs": [],
   "source": [
    "y_prob_dl = dl_pred_2.Probility_1"
   ]
  },
  {
   "cell_type": "code",
   "execution_count": null,
   "id": "fa46df1d",
   "metadata": {},
   "outputs": [],
   "source": [
    "bootstraps_roc(np.array(y_prob_dl),np.array(test_label_binary))"
   ]
  },
  {
   "cell_type": "markdown",
   "id": "0e8cf6a0",
   "metadata": {},
   "source": [
    "### 2.1.3 ROC curve\n",
    "\n",
    "For binary classification, ROC curves could better illustrate the performace of each model. "
   ]
  },
  {
   "cell_type": "code",
   "execution_count": null,
   "id": "8d90c633",
   "metadata": {},
   "outputs": [],
   "source": [
    "classifiers = {\"Linear SVM\":clf_svm,\n",
    "               \"Random ForEst\":clf_rf,\n",
    "               \"Logistic Regression\":clf_lr}\n",
    "\n",
    "fig, [ax_roc, ax_det] = plt.subplots(1, 2, figsize=(11, 5))\n",
    "\n",
    "for name, clf in classifiers.items():\n",
    "    cm, y_pred, y_prob,  fpr, tpr, threshold = test_clf(clf, x_test, y_test)\n",
    "\n",
    "    RocCurveDisplay.from_predictions(y_test, y_prob[:,1], pos_label = 1, ax=ax_roc, name=name)\n",
    "    DetCurveDisplay.from_predictions(y_test, y_prob[:,1], pos_label = 1, ax=ax_det, name=name)\n",
    "\n",
    "RocCurveDisplay.from_predictions(test_label_binary, y_prob_dl, pos_label = 1, ax=ax_roc, name='Deep Learning')\n",
    "DetCurveDisplay.from_predictions(test_label_binary, y_prob_dl, pos_label = 1, ax=ax_det, name='Deep Learning')\n",
    "\n",
    "#ax_roc.set_title(\"Receiver Operating Characteristic (ROC) curves\")\n",
    "#ax_det.set_title(\"Detection Error Tradeoff (DET) curves\")\n",
    "\n",
    "ax_roc.set_xlabel('False Positive Rate')\n",
    "ax_roc.set_ylabel('True Positive Rate')\n",
    "\n",
    "ax_det.set_xlabel('False Positive Rate')\n",
    "ax_det.set_ylabel('False Negtive Rate')\n",
    "\n",
    "ax_roc.grid(linestyle=\"--\")\n",
    "ax_det.grid(linestyle=\"--\")\n",
    "\n",
    "plt.legend()"
   ]
  },
  {
   "cell_type": "markdown",
   "id": "cc966ecc",
   "metadata": {},
   "source": [
    "### 2.2 Extrem dense/ Non-extrem dense classification task(iii)"
   ]
  },
  {
   "cell_type": "markdown",
   "id": "c0d3b07f",
   "metadata": {},
   "source": [
    "#### 2.2.1 Radiomics  extrem / non-extrem classification"
   ]
  },
  {
   "cell_type": "code",
   "execution_count": 2,
   "id": "aaf1770c",
   "metadata": {},
   "outputs": [
    {
     "ename": "NameError",
     "evalue": "name 'np' is not defined",
     "output_type": "error",
     "traceback": [
      "\u001b[0;31m---------------------------------------------------------------------------\u001b[0m",
      "\u001b[0;31mNameError\u001b[0m                                 Traceback (most recent call last)",
      "Input \u001b[0;32mIn [2]\u001b[0m, in \u001b[0;36m<cell line: 1>\u001b[0;34m()\u001b[0m\n\u001b[0;32m----> 1\u001b[0m extrem_label_values \u001b[38;5;241m=\u001b[39m \u001b[43mnp\u001b[49m\u001b[38;5;241m.\u001b[39marray([\u001b[38;5;241m0\u001b[39m \u001b[38;5;28;01mif\u001b[39;00m x \u001b[38;5;241m==\u001b[39m \u001b[38;5;241m2\u001b[39m \u001b[38;5;28;01melse\u001b[39;00m \u001b[38;5;241m1\u001b[39m \u001b[38;5;28;01mfor\u001b[39;00m x \u001b[38;5;129;01min\u001b[39;00m label_values])\n\u001b[1;32m      2\u001b[0m \u001b[38;5;28mprint\u001b[39m(Counter(label_values))\n",
      "\u001b[0;31mNameError\u001b[0m: name 'np' is not defined"
     ]
    }
   ],
   "source": [
    "##########\n",
    "# Transform labels, category A,B,C were asigned with 0, category D asigned with label 1\n",
    "##########\n",
    "extrem_labels = np.array([1 if x == 3 else 0 for x in label_values])\n",
    "print(Counter(label_values))"
   ]
  },
  {
   "cell_type": "code",
   "execution_count": null,
   "id": "d4e89532",
   "metadata": {},
   "outputs": [],
   "source": [
    "y_prob_dl_exd = dl_pred_4.Probility_3.values\n",
    "\n",
    "classifiers = {\"Linear SVM\":clf_svm_4,\n",
    "               \"Random ForEst\":clf_rf_4,\n",
    "               \"Logistic Regression\":clf_lr_4}\n",
    "\n",
    "fig, [ax_roc, ax_det] = plt.subplots(1, 2, figsize=(11, 5))\n",
    "\n",
    "for name, clf in classifiers.items():\n",
    "    cm, y_pred, y_prob,  fpr, tpr, threshold = test_clf(clf, x_test, extrem_labels)\n",
    "\n",
    "    RocCurveDisplay.from_predictions(extrem_labels, y_prob[:,3], pos_label = 1, ax=ax_roc, name=name)\n",
    "    DetCurveDisplay.from_predictions(extrem_labels, y_prob[:,3], pos_label = 1, ax=ax_det, name=name)\n",
    "\n",
    "RocCurveDisplay.from_predictions(extrem_labels, y_prob_dl_exd, pos_label = 1, ax=ax_roc, name='Deep Learning')\n",
    "DetCurveDisplay.from_predictions(extrem_labels, y_prob_dl_exd, pos_label = 1, ax=ax_det, name='Deep Learning')\n",
    "\n",
    "#ax_roc.set_title(\"Receiver Operating Characteristic (ROC) curves\")\n",
    "#ax_det.set_title(\"Detection Error Tradeoff (DET) curves\")\n",
    "\n",
    "ax_roc.set_xlabel('False Positive Rate')\n",
    "ax_roc.set_ylabel('True Positive Rate')\n",
    "\n",
    "ax_det.set_xlabel('False Positive Rate')\n",
    "ax_det.set_ylabel('False Negtive Rate')\n",
    "\n",
    "ax_roc.grid(linestyle=\"--\")\n",
    "ax_det.grid(linestyle=\"--\")\n",
    "\n",
    "plt.legend()"
   ]
  }
 ],
 "metadata": {
  "kernelspec": {
   "display_name": "Python 3 (ipykernel)",
   "language": "python",
   "name": "python3"
  },
  "language_info": {
   "codemirror_mode": {
    "name": "ipython",
    "version": 3
   },
   "file_extension": ".py",
   "mimetype": "text/x-python",
   "name": "python",
   "nbconvert_exporter": "python",
   "pygments_lexer": "ipython3",
   "version": "3.9.12"
  }
 },
 "nbformat": 4,
 "nbformat_minor": 5
}
